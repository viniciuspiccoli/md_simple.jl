{
 "cells": [
  {
   "cell_type": "markdown",
   "metadata": {},
   "source": [
    "### Caderno para estudo de simulações de dinâmica molecular"
   ]
  },
  {
   "cell_type": "markdown",
   "metadata": {},
   "source": [
    "Um aspecto importante para as simulações moleculares como monte-carlo e dinâmica molecular diz respeito à forma em que as partículas  interagem e, também, como tais interações podem ser representativas para sistemas reais. O primeiro aspecto relevante diz respeito às condições periódicas de contorno (PBC, do ingles periodic boundary conditions). \n",
    "\n",
    "Tais métodos computacionais visam prover informações sobre propriedades de uma amostra macroscópica. Normalmente, o número de graus de liberdade simulados em sistemas tipicamente abordados em MD e MC é da ordem de milhares até milhões de átomos. \n",
    "\n",
    "Em um sistema 3D com N partículas sem fronteiras, a fração de moléculas que está na superfície é proporcional N^(-1/3). Por exemplo, em um cristal cúbico com 1000 átomos , cerca de 49 % dos átomos estarão na fronteira. Assim, as propriedades de tais sistemas serão fortemente dominadas por efeitos de fronteira. Sendo, desta forma, impossível de reproduzir propriedades bulk.\n",
    "\n",
    "Assim, para a correta repodução dos sistemas é preciso escolher condições de contorno que imitam a presença de um bulk infinito de partículas com mesma identidade das N existentes no sistema. Isto é frequentemente atingido por meio da aplicação de propriedades periódicas de contorno.\n"
   ]
  },
  {
   "cell_type": "code",
   "execution_count": 1,
   "metadata": {},
   "outputs": [
    {
     "data": {
      "text/plain": [
       "minimum_image (generic function with 1 method)"
      ]
     },
     "metadata": {},
     "output_type": "display_data"
    }
   ],
   "source": [
    "function minimum_image(rc, L)\n",
    "    if rc < - L/2\n",
    "        rc = rc + L\n",
    "    elseif rc >= L/2\n",
    "        rc = rc - L\n",
    "    end \n",
    "    return rc    \n",
    "end"
   ]
  },
  {
   "cell_type": "markdown",
   "metadata": {},
   "source": [
    "Agora, podemos considerar um aspecto muito importante que diz respeito à forma com que as partículas interagem. Vamos considerar um caso de um sistema com interações de curta distância  (short-ranged) e que essas interações sejam aditivas por pares (pairwise-additive interactions). Neste contexto, as interações serem de curta distância significam que a energia potencial total de uma dada partícula $i$ será dominada por interações com partículas vizinhas que estão há uma distância menor do que $r_c$. O erro de ignorar interações entre partículas que estão em distâncias maiores do que $r_c$ torna-se menor ao passo que consideramos $r_c$ maior.\n",
    "\n",
    "Se usamos condições periódicas de contorno:\n",
    "\n",
    "*  se $r_c$ é maior do que $L/2$, precisamos considerar a interação da partícula $i$ apenas com a imagem periódica mais próxima de qualquer outra partícula $j$.   "
   ]
  },
  {
   "cell_type": "code",
   "execution_count": 2,
   "metadata": {},
   "outputs": [
    {
     "data": {
      "text/plain": [
       "setlat (generic function with 1 method)"
      ]
     },
     "metadata": {},
     "output_type": "display_data"
    }
   ],
   "source": [
    "function setlat(nx, ny, nz, vol)\n",
    "    # Calculate the lattice constant (unit cell edge length)\n",
    "    npart = 4 * nx * ny * nz  # 4 particles per unit cell\n",
    "    a0 = (vol / (nx * ny * nz))^(1/3)\n",
    "    \n",
    "    # Initialize arrays for positions\n",
    "    x0 = Vector{Float64}(undef, npart)\n",
    "    y0 = similar(x0)\n",
    "    z0 = similar(x0)\n",
    "    \n",
    "    # Initialize counters and center of mass\n",
    "    i = 0\n",
    "    xcm0 = 0.0\n",
    "    ycm0 = 0.0\n",
    "    zcm0 = 0.0\n",
    "    \n",
    "    # Generate positions\n",
    "    for iz in 1:2*nz\n",
    "        for iy in 1:2*ny\n",
    "            for ix in 1:2*nx\n",
    "                if (ix + iy + iz) % 2 == 0\n",
    "                    i += 1\n",
    "                    x0[i] = 0.5 * a0 * (ix - 1 + 0.5 * ((iy + iz) % 2))\n",
    "                    y0[i] = 0.5 * a0 * (iy - 1 + 0.5 * ((ix + iz) % 2))\n",
    "                    z0[i] = 0.5 * a0 * (iz - 1 + 0.5 * ((ix + iy) % 2))\n",
    "                    \n",
    "                    # Accumulate for center of mass\n",
    "                    xcm0 += x0[i]\n",
    "                    ycm0 += y0[i]\n",
    "                    zcm0 += z0[i]\n",
    "                end\n",
    "            end\n",
    "        end\n",
    "    end\n",
    "    \n",
    "    # Calculate center of mass\n",
    "    xcm0 /= npart\n",
    "    ycm0 /= npart\n",
    "    zcm0 /= npart\n",
    "    \n",
    "    return x0, y0, z0, xcm0, ycm0, zcm0, a0\n",
    "end"
   ]
  },
  {
   "cell_type": "code",
   "execution_count": 3,
   "metadata": {},
   "outputs": [
    {
     "data": {
      "text/plain": [
       "([1.1603972084031946, 3.4811916252095836, 0.5801986042015973, 2.9009930210079866, 1.1603972084031946, 3.4811916252095836, 0.5801986042015973, 2.9009930210079866, 0.5801986042015973, 2.9009930210079866  …  0.5801986042015973, 2.9009930210079866, 0.5801986042015973, 2.9009930210079866, 1.1603972084031946, 3.4811916252095836, 0.5801986042015973, 2.9009930210079866, 1.1603972084031946, 3.4811916252095836], [0.5801986042015973, 0.5801986042015973, 1.1603972084031946, 1.1603972084031946, 2.9009930210079866, 2.9009930210079866, 3.4811916252095836, 3.4811916252095836, 0.5801986042015973, 0.5801986042015973  …  3.4811916252095836, 3.4811916252095836, 0.5801986042015973, 0.5801986042015973, 1.1603972084031946, 1.1603972084031946, 2.9009930210079866, 2.9009930210079866, 3.4811916252095836, 3.4811916252095836], [0.5801986042015973, 0.5801986042015973, 0.5801986042015973, 0.5801986042015973, 0.5801986042015973, 0.5801986042015973, 0.5801986042015973, 0.5801986042015973, 1.1603972084031946, 1.1603972084031946  …  2.9009930210079866, 2.9009930210079866, 3.4811916252095836, 3.4811916252095836, 3.4811916252095836, 3.4811916252095836, 3.4811916252095836, 3.4811916252095836, 3.4811916252095836, 3.4811916252095836], 2.0306951147055905, 2.0306951147055905, 2.0306951147055905, 2.320794416806389)"
      ]
     },
     "metadata": {},
     "output_type": "display_data"
    }
   ],
   "source": [
    "x, y, z, xcm, ycm, zcm, a0 = setlat(2, 2, 2, 100.0)"
   ]
  },
  {
   "cell_type": "code",
   "execution_count": 4,
   "metadata": {},
   "outputs": [
    {
     "name": "stderr",
     "output_type": "stream",
     "text": [
      "┌ Warning: Found `resolution` in the theme when creating a `Scene`. The `resolution` keyword for `Scene`s and `Figure`s has been deprecated. Use `Figure(; size = ...` or `Scene(; size = ...)` instead, which better reflects that this is a unitless size and not a pixel resolution. The key could also come from `set_theme!` calls or related theming functions.\n",
      "└ @ Makie C:\\Users\\vinic\\.julia\\packages\\Makie\\6KcTF\\src\\scenes.jl:238\n"
     ]
    }
   ],
   "source": [
    "using GLMakie  # Using GLMakie for 3D interactive plots\n",
    "\n",
    "# FCC lattice generation function (same as before)\n",
    "function setlat(nx, ny, nz, vol)\n",
    "    npart = 4 * nx * ny * nz\n",
    "    a0 = (vol / (nx * ny * nz))^(1/3)\n",
    "    \n",
    "    x0 = Vector{Float64}(undef, npart)\n",
    "    y0 = similar(x0)\n",
    "    z0 = similar(x0)\n",
    "    \n",
    "    i = 0\n",
    "    xcm0 = 0.0\n",
    "    ycm0 = 0.0\n",
    "    zcm0 = 0.0\n",
    "    \n",
    "    for iz in 1:2*nz\n",
    "        for iy in 1:2*ny\n",
    "            for ix in 1:2*nx\n",
    "                if (ix + iy + iz) % 2 == 0\n",
    "                    i += 1\n",
    "                    x0[i] = 0.5 * a0 * (ix - 1 + 0.5 * ((iy + iz) % 2))\n",
    "                    y0[i] = 0.5 * a0 * (iy - 1 + 0.5 * ((ix + iz) % 2))\n",
    "                    z0[i] = 0.5 * a0 * (iz - 1 + 0.5 * ((ix + iy) % 2))\n",
    "                    \n",
    "                    xcm0 += x0[i]\n",
    "                    ycm0 += y0[i]\n",
    "                    zcm0 += z0[i]\n",
    "                end\n",
    "            end\n",
    "        end\n",
    "    end\n",
    "    \n",
    "    xcm0 /= npart\n",
    "    ycm0 /= npart\n",
    "    zcm0 /= npart\n",
    "    \n",
    "    return x0, y0, z0, xcm0, ycm0, zcm0, a0\n",
    "end\n",
    "\n",
    "# Generate the lattice (2x2x2 unit cells, volume = 100)\n",
    "nx, ny, nz = 2, 2, 2\n",
    "vol = 100.0\n",
    "x, y, z, xcm, ycm, zcm, a0 = setlat(nx, ny, nz, vol)\n",
    "\n",
    "# Create the plot\n",
    "fig = Figure(resolution = (800, 600))\n",
    "ax = Axis3(fig[1, 1], title = \"FCC Lattice ($nx×$ny×$nz unit cells)\",\n",
    "           xlabel = \"X\", ylabel = \"Y\", zlabel = \"Z\")\n",
    "\n",
    "# Plot the atoms as spheres\n",
    "meshscatter!(ax, x, y, z, markersize = 0.15*a0, color = :lightblue)\n",
    "\n",
    "# (Optional) Draw unit cell edges for visualization\n",
    "unit_cell_lines = [\n",
    "    # Bottom face\n",
    "    [0, 0, 0] => [a0, 0, 0],\n",
    "    [a0, 0, 0] => [a0, a0, 0],\n",
    "    [a0, a0, 0] => [0, a0, 0],\n",
    "    [0, a0, 0] => [0, 0, 0],\n",
    "    # Top face\n",
    "    [0, 0, a0] => [a0, 0, a0],\n",
    "    [a0, 0, a0] => [a0, a0, a0],\n",
    "    [a0, a0, a0] => [0, a0, a0],\n",
    "    [0, a0, a0] => [0, 0, a0],\n",
    "    # Vertical edges\n",
    "    [0, 0, 0] => [0, 0, a0],\n",
    "    [a0, 0, 0] => [a0, 0, a0],\n",
    "    [0, a0, 0] => [0, a0, a0],\n",
    "    [a0, a0, 0] => [a0, a0, a0]\n",
    "]\n",
    "\n",
    "for (start_pt, end_pt) in unit_cell_lines\n",
    "    lines!(ax, [start_pt[1], end_pt[1]], [start_pt[2], end_pt[2]], [start_pt[3], end_pt[3]],\n",
    "           color = :black, linewidth = 1.5)\n",
    "end\n",
    "\n",
    "# Center the view on the lattice\n",
    "limits!(ax, -0.1*a0, (2*nx)*0.5*a0 + 0.1*a0, \n",
    "        -0.1*a0, (2*ny)*0.5*a0 + 0.1*a0, \n",
    "        -0.1*a0, (2*nz)*0.5*a0 + 0.1*a0)\n",
    "\n",
    "fig"
   ]
  },
  {
   "cell_type": "code",
   "execution_count": 5,
   "metadata": {},
   "outputs": [
    {
     "data": {
      "text/plain": [
       "initv (generic function with 1 method)"
      ]
     },
     "metadata": {},
     "output_type": "display_data"
    }
   ],
   "source": [
    "using Random\n",
    "\n",
    "function initv(temp, x0, y0, z0, npart, dt)\n",
    "    # Initialize arrays\n",
    "    vx = Vector{Float64}(undef, npart)\n",
    "    vy = similar(vx)\n",
    "    vz = similar(vx)\n",
    "    xm = similar(vx)\n",
    "    ym = similar(vx)\n",
    "    zm = similar(vx)\n",
    "    \n",
    "    sumv = zeros(3)  # sumv[1] = sum(vx), sumv[2] = sum(vy), sumv[3] = sum(vz)\n",
    "    sumv2 = 0.0\n",
    "    \n",
    "    # Generate velocities from Maxwell-Boltzmann distribution\n",
    "    for i in 1:npart\n",
    "        # Generate Gaussian velocities using Box-Muller transform\n",
    "        r1, r2 = rand(), rand()\n",
    "        vx[i] = sqrt(-2 * log(r1)) * cos(2π * r2)\n",
    "        r1, r2 = rand(), rand()\n",
    "        vy[i] = sqrt(-2 * log(r1)) * cos(2π * r2)\n",
    "        r1, r2 = rand(), rand()\n",
    "        vz[i] = sqrt(-2 * log(r1)) * cos(2π * r2)\n",
    "        \n",
    "        sumv .+= (vx[i], vy[i], vz[i])\n",
    "    end\n",
    "    \n",
    "    # Remove center-of-mass velocity\n",
    "    sumv ./= npart\n",
    "    for i in 1:npart\n",
    "        vx[i] -= sumv[1]\n",
    "        vy[i] -= sumv[2]\n",
    "        vz[i] -= sumv[3]\n",
    "        sumv2 += vx[i]^2 + vy[i]^2 + vz[i]^2\n",
    "    end\n",
    "    \n",
    "    # Scale velocities to desired temperature\n",
    "    nf = 3 * npart - 3  # Degrees of freedom (subtract 3 for COM motion)\n",
    "    fs = sqrt(temp / (sumv2 / nf))\n",
    "    \n",
    "    vx .*= fs\n",
    "    vy .*= fs\n",
    "    vz .*= fs\n",
    "    \n",
    "    # Set previous positions for Verlet integration\n",
    "    for i in 1:npart\n",
    "        xm[i] = x0[i] - vx[i] * dt\n",
    "        ym[i] = y0[i] - vy[i] * dt\n",
    "        zm[i] = z0[i] - vz[i] * dt\n",
    "    end\n",
    "    \n",
    "    return vx, vy, vz, xm, ym, zm\n",
    "end"
   ]
  },
  {
   "cell_type": "code",
   "execution_count": null,
   "metadata": {},
   "outputs": [],
   "source": []
  },
  {
   "cell_type": "code",
   "execution_count": null,
   "metadata": {},
   "outputs": [],
   "source": [
    "function md()\n",
    "\n",
    "    setlat() # function to initialize positions\n",
    "    initv(temp)\n",
    "    t = 0\n",
    "    while t < tmax\n",
    "        FandE # computes forces and total energy\n",
    "        Integrate-V # integrate equations of motion\n",
    "        t = t + delt\n",
    "        sample # function to sample avarages\n",
    "\n",
    "\n",
    "end"
   ]
  },
  {
   "cell_type": "code",
   "execution_count": 7,
   "metadata": {},
   "outputs": [
    {
     "data": {
      "text/plain": [
       "FandE (generic function with 1 method)"
      ]
     },
     "metadata": {},
     "output_type": "display_data"
    }
   ],
   "source": [
    "# Force and energy calculation\n",
    "function FandE(x, y, z, box, rc)\n",
    "    npart = length(x)\n",
    "    fx = zeros(npart)\n",
    "    fy = zeros(npart)\n",
    "    fz = zeros(npart)\n",
    "    en = 0.0\n",
    "    rc2 = rc^2\n",
    "    \n",
    "    for i in 1:npart-1\n",
    "        for j in i+1:npart\n",
    "            # Periodic boundary conditions\n",
    "            xr = x[i] - x[j]\n",
    "            xr -= box * round(xr/box)\n",
    "            \n",
    "            yr = y[i] - y[j]\n",
    "            yr -= box * round(yr/box)\n",
    "            \n",
    "            zr = z[i] - z[j]\n",
    "            zr -= box * round(zr/box)\n",
    "            \n",
    "            r2 = xr^2 + yr^2 + zr^2\n",
    "            \n",
    "            if r2 < rc2\n",
    "                r2i = 1/r2\n",
    "                r2im1 = r2i - 1.0\n",
    "                rc2r2im1 = rc2*r2i - 1.0\n",
    "                \n",
    "                # Energy contribution\n",
    "                en += r2im1 * rc2r2im1^2\n",
    "                \n",
    "                # Force calculation\n",
    "                ff = 6.0 * r2i^2 * rc2r2im1 * (rc2r2im1 - 2.0)\n",
    "                \n",
    "                fx[i] += ff * xr\n",
    "                fy[i] += ff * yr\n",
    "                fz[i] += ff * zr\n",
    "                \n",
    "                fx[j] -= ff * xr\n",
    "                fy[j] -= ff * yr\n",
    "                fz[j] -= ff * zr\n",
    "            end\n",
    "        end\n",
    "    end\n",
    "    \n",
    "    return fx, fy, fz, en\n",
    "end"
   ]
  },
  {
   "cell_type": "code",
   "execution_count": 8,
   "metadata": {},
   "outputs": [
    {
     "data": {
      "text/plain": [
       "integrate_v! (generic function with 1 method)"
      ]
     },
     "metadata": {},
     "output_type": "display_data"
    }
   ],
   "source": [
    "function integrate_v!(x, xm, fx, delt, nf, en)\n",
    "    npart = length(x)\n",
    "    sumv = 0.0\n",
    "    sumv2 = 0.0\n",
    "    \n",
    "    # Verlet integration and velocity calculation\n",
    "    for i in 1:npart\n",
    "        xx = 2*x[i] - xm[i] + delt^2 * fx[i]  # Verlet position update\n",
    "        vi = (xx - xm[i]) / (2*delt)          # Velocity calculation\n",
    "        \n",
    "        sumv += vi\n",
    "        sumv2 += vi^2\n",
    "        \n",
    "        # Update positions\n",
    "        xm[i] = x[i]\n",
    "        x[i] = xx\n",
    "    end\n",
    "    \n",
    "    # Calculate temperature and total energy\n",
    "    temp = sumv2 / nf\n",
    "    etot = (en + 0.5*sumv2) / npart\n",
    "    \n",
    "    return temp, etot, sumv/npart  # Returns temperature, energy per particle, and COM velocity\n",
    "end"
   ]
  },
  {
   "cell_type": "code",
   "execution_count": null,
   "metadata": {},
   "outputs": [],
   "source": [
    "function vel_verlet!(x, v, f, delt, m, force_calculator)\n",
    "    \"\"\"\n",
    "    Velocity Verlet integrator\n",
    "    Args:\n",
    "        x: positions (will be updated)\n",
    "        v: velocities (will be updated)\n",
    "        f: forces from previous step\n",
    "        delt: time step\n",
    "        m: particle mass (can be scalar or vector)\n",
    "        force_calculator: function that takes positions and returns (fx, fy, fz, en)\n",
    "    Returns:\n",
    "        K: kinetic energy\n",
    "        en: potential energy\n",
    "        com_v: center-of-mass velocity\n",
    "    \"\"\"\n",
    "    npart = length(x)\n",
    "    delt2 = delt/2\n",
    "    K = 0.0\n",
    "    sumv = zeros(3)  # For COM velocity calculation\n",
    "    \n",
    "    # First half-step velocity update and position update\n",
    "    @inbounds for i in 1:npart\n",
    "        v[i] += f[i] * delt2 / m\n",
    "        x[i] += v[i] * delt\n",
    "    end\n",
    "    \n",
    "    # Get new forces\n",
    "    f_new, en = force_calculator(x)\n",
    "    \n",
    "    # Second half-step velocity update and kinetic energy calculation\n",
    "    @inbounds for i in 1:npart\n",
    "        v[i] += f_new[i] * delt2 / m\n",
    "        vi_sq = v[i]^2\n",
    "        K += 0.5 * m * vi_sq\n",
    "        sumv .+= (v[i], 0.0, 0.0)  # Simplified for 1D - extend to 3D\n",
    "    end\n",
    "    \n",
    "    # Update forces for next step\n",
    "    copyto!(f, f_new)\n",
    "    \n",
    "    # COM velocity (per dimension)\n",
    "    com_v = sumv ./ (npart * m)\n",
    "    \n",
    "    return K, en, com_v\n",
    "end\n",
    "\n",
    "function vel_verlet_3d!(x, y, z, vx, vy, vz, fx, fy, fz, delt, m, box, rc)\n",
    "    \"\"\"\n",
    "    3D Velocity Verlet integrator for MD\n",
    "    Args:\n",
    "        Positions and velocities for x,y,z\n",
    "        Forces fx, fy, fz from previous step\n",
    "        delt: time step\n",
    "        m: mass (scalar)\n",
    "        box: simulation box size\n",
    "        rc: cutoff radius\n",
    "    Returns:\n",
    "        K: kinetic energy\n",
    "        en: potential energy\n",
    "        com_v: center-of-mass velocity vector\n",
    "    \"\"\"\n",
    "    npart = length(x)\n",
    "    delt2 = delt/2\n",
    "    K = 0.0\n",
    "    sumv = zeros(3)\n",
    "    \n",
    "    # Half-step velocity update and full position update\n",
    "    @inbounds for i in 1:npart\n",
    "        vx[i] += fx[i] * delt2 / m\n",
    "        vy[i] += fy[i] * delt2 / m\n",
    "        vz[i] += fz[i] * delt2 / m\n",
    "        \n",
    "        x[i] += vx[i] * delt\n",
    "        y[i] += vy[i] * delt\n",
    "        z[i] += vz[i] * delt\n",
    "    end\n",
    "    \n",
    "    # Get new forces\n",
    "    fx_new, fy_new, fz_new, en = FandE(x, y, z, box, rc)\n",
    "    \n",
    "    # Second half-step velocity update and KE calculation\n",
    "    @inbounds for i in 1:npart\n",
    "        vx[i] += fx_new[i] * delt2 / m\n",
    "        vy[i] += fy_new[i] * delt2 / m\n",
    "        vz[i] += fz_new[i] * delt2 / m\n",
    "        \n",
    "        vi_sq = vx[i]^2 + vy[i]^2 + vz[i]^2\n",
    "        K += 0.5 * m * vi_sq\n",
    "        sumv .+= (vx[i], vy[i], vz[i])\n",
    "    end\n",
    "    \n",
    "    # Update forces for next step\n",
    "    copyto!(fx, fx_new)\n",
    "    copyto!(fy, fy_new)\n",
    "    copyto!(fz, fz_new)\n",
    "    \n",
    "    # COM velocity\n",
    "    com_v = sumv ./ npart  # Assuming m=1\n",
    "    \n",
    "    return K, en, com_v\n",
    "end\n",
    "\n",
    "\n",
    "function compare_integrators()\n",
    "    # Common setup\n",
    "    nx, ny, nz = 2, 2, 2\n",
    "    vol = 100.0\n",
    "    temp = 1.0\n",
    "    dt = 0.001\n",
    "    rc = 2.0\n",
    "    nsteps = 1000\n",
    "    m = 1.0  # Using unit mass\n",
    "    \n",
    "    # Initialize system\n",
    "    x, y, z, box, npart = setlat(nx, ny, nz, vol)\n",
    "    vx, vy, vz, xm, ym, zm = initv(temp, x, y, z, npart, dt)\n",
    "    nf = 3npart - 3\n",
    "    \n",
    "    # For position Verlet\n",
    "    fx_p, fy_p, fz_p, en_p = FandE(x, y, z, box, rc)\n",
    "    \n",
    "    # For velocity Verlet (need to make copies)\n",
    "    x_v = copy(x); y_v = copy(y); z_v = copy(z)\n",
    "    vx_v = copy(vx); vy_v = copy(vy); vz_v = copy(vz)\n",
    "    fx_v, fy_v, fz_v, en_v = FandE(x_v, y_v, z_v, box, rc)\n",
    "    \n",
    "    for step in 1:nsteps\n",
    "        # Position Verlet\n",
    "        temp_p, etot_p, com_v_p = integrate_v!(x, xm, fx_p, dt, nf, en_p)\n",
    "        fx_p, fy_p, fz_p, en_p = FandE(x, y, z, box, rc)\n",
    "        \n",
    "        # Velocity Verlet\n",
    "        K_v, en_v, com_v_v = vel_verlet_3d!(\n",
    "            x_v, y_v, z_v, vx_v, vy_v, vz_v, \n",
    "            fx_v, fy_v, fz_v, dt, m, box, rc\n",
    "        )\n",
    "        temp_v = 2K_v / nf\n",
    "        \n",
    "        if step % 100 == 0\n",
    "            println(\"Step $step:\")\n",
    "            println(\"  Position Verlet: T=$(temp_p) E=$etot_p COM_v=$(norm(com_v_p))\")\n",
    "            println(\"  Velocity Verlet: T=$(temp_v) E=$(en_v + K_v)/$npart COM_v=$(norm(com_v_v))\")\n",
    "        end\n",
    "    end\n",
    "end"
   ]
  },
  {
   "cell_type": "code",
   "execution_count": 6,
   "metadata": {},
   "outputs": [
    {
     "data": {
      "text/plain": [
       "([1.4732029886675657, 1.0051041243323935, 0.3133539529957237, -1.712375913100605, 0.7219224735903631, 0.7048370421441061, 0.05647542229656849, -1.6553195469907462, 1.1787164571871602, -0.36763480578988056  …  -1.2929010835015629, 0.27363419852306176, 0.6229699172265207, -2.21100045145314, -0.5848146366134517, -0.5018874697172895, -0.3875398511283051, 1.4661738364182129, 0.12677937937660957, -1.08802124180418], [-0.6759751299658173, -2.2919012813706225, 1.722027874070089, -0.31043207819365054, -1.5803883104218428, -0.11632496561873572, 1.0152805645360512, -0.5157157987690401, -0.6674696372972477, 1.1505087699368888  …  0.6888912837530523, 2.204892256374465, -1.12726646710357, 0.1813589844758733, 0.3022482889321866, 0.06425878624171125, 0.8028133465418767, -1.5424465182356784, -0.15570081434047944, 0.97468830235141], [0.8437867527277519, -1.717258427094374, 0.9496009709391136, -0.8930458933584102, -0.7809663949223696, 0.6809888376235091, 2.0208481276447436, 1.8005147237282537, -0.06755381903938072, -0.054329287318885436  …  1.0385092770719848, -0.484594117545367, -0.7066757058741701, 1.00910901319607, -0.6189762792239382, -0.3340872167481206, -0.11987563406853191, -0.6224243426894702, -0.4278517609372279, 0.4074539241954712], [1.1589240054145271, 3.480186521085251, 0.5798852502486016, 2.902705396921087, 1.1596752859296042, 3.4804867881674393, 0.5801421287793007, 2.9026483405549772, 0.5790198877444102, 2.9013606558137766  …  0.5814915052850989, 2.9007193868094636, 0.5795756342843708, 2.9032040214594397, 1.160982023039808, 3.4816935126793007, 0.5805861440527256, 2.8995268471715683, 1.160270429023818, 3.4822796464513877], [0.5808745793315632, 0.5824905054829679, 1.1586751805291244, 1.1607076404813883, 2.9025734093184083, 2.9011093459736053, 3.4801763446450473, 3.4817073410083528, 0.5808660738388945, 0.5790480954316604  …  3.4805027339258303, 3.478986732953209, 0.5813258706687009, 0.5800172452171214, 1.1600949601142625, 1.160332949616953, 2.9001902076614448, 2.9025354675262225, 3.4813473260239243, 3.480216936907232], [0.5793548174488695, 0.5819158626286917, 0.5792490032306582, 0.5810916500949557, 0.5809795705965197, 0.5795176153639738, 0.5781777560739526, 0.5783980894778691, 1.160464762222234, 1.1604515376905136  …  2.8999545117309147, 2.901477615125532, 3.4818983009154576, 3.4801825161963875, 3.4818106014888075, 3.4815257124263317, 3.481311500843652, 3.481814049552273, 3.4816194769705207, 3.480784171285388])"
      ]
     },
     "metadata": {},
     "output_type": "display_data"
    }
   ],
   "source": [
    "nx, ny, nz = 2, 2, 2\n",
    "vol = 100.0\n",
    "x0, y0, z0, xcm, ycm, zcm, a0 = setlat(nx, ny, nz, vol)\n",
    "npart = length(x0)\n",
    "\n",
    "temp = 1.0  # Desired initial temperature\n",
    "dt = 0.001  # Time step for MD simulation\n",
    "vx, vy, vz, xm, ym, zm = initv(temp, x0, y0, z0, npart, dt)"
   ]
  },
  {
   "cell_type": "code",
   "execution_count": null,
   "metadata": {},
   "outputs": [],
   "source": []
  }
 ],
 "metadata": {
  "kernelspec": {
   "display_name": "Julia 1.11.3",
   "language": "julia",
   "name": "julia-1.11"
  },
  "language_info": {
   "file_extension": ".jl",
   "mimetype": "application/julia",
   "name": "julia",
   "version": "1.11.3"
  }
 },
 "nbformat": 4,
 "nbformat_minor": 2
}
